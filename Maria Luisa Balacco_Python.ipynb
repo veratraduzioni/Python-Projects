{
 "cells": [
  {
   "cell_type": "code",
   "execution_count": 1,
   "id": "24b894d5-17c3-4f38-8ecc-ca36019e0b78",
   "metadata": {},
   "outputs": [],
   "source": [
    "# Per questo progetto ho ideato il database di una libreria con alcuni libri già presenti per poi impostare le varie funzioni richieste da start2impact.\n",
    "\n",
    "# DEFINISCO I LIBRI GIA' PRESENTI NEL DATABASE DELLA LIBRERIA\n",
    "\n",
    "# Per ogni genere creo un suo dizionario. Il genere fantasy ha due dizionari annidati per distinguere le saghe dalle nuove uscite."
   ]
  },
  {
   "cell_type": "code",
   "execution_count": 5,
   "id": "479da8ad-3588-4bab-bb94-2f65d4881ee8",
   "metadata": {},
   "outputs": [],
   "source": [
    "fantasy = {\n",
    "    'saghe': {\n",
    "        'titolo': ['Game of Thrones', 'Harry Potter', 'Il signore degli anelli', 'Le cronache di Narnia', 'Nevernight'],\n",
    "        'autore': ['George R. R. Martin', 'J K Rowling', 'John R. R. Tolkien', 'Clive S. Lewis', 'Jay Kristoff'],\n",
    "        'anno_pubblicazione': [1997, 1998, 1954, 1950, 2016],\n",
    "        'prezzo': [30.75, 12.90, 47.50, 22.80, 19.00]\n",
    "    },\n",
    "    'nuove uscite': {\n",
    "        'titolo': ['Il maestro di spada', 'Abissi e Incanto', 'The Final Strife', 'Sister of Swords and Shadow', 'Guilty Drunk in Love'],\n",
    "        'autore': ['Sam Feuerbach', 'Ella Archer', 'Saara El-Arifi', 'Bates Laura', 'Rokia'],\n",
    "        'anno_pubblicazione': [2024, 2024, 2024, 2024, 2024],\n",
    "        'prezzo': [19.99, 22.80, 13.99, 17.10, 16.05]\n",
    "    }\n",
    "}"
   ]
  },
  {
   "cell_type": "code",
   "execution_count": 5,
   "id": "0c8b98bd-3988-444f-830a-d8972c601458",
   "metadata": {},
   "outputs": [
    {
     "name": "stdout",
     "output_type": "stream",
     "text": [
      "Harry Potter\n"
     ]
    }
   ],
   "source": [
    "#Dato che ogni valore della chiave è contenuto in una lista, si può accedere a ogni singolo libro o consultare un genere specificando la chiave del dizionario e il suo indice.\n",
    "#ESEMPIO per trovare il titolo di Harry Potter\n",
    "print(fantasy['saghe']['titolo'][1])"
   ]
  },
  {
   "cell_type": "code",
   "execution_count": 7,
   "id": "b2c9eed7-ed76-40bd-af16-e0875878ec6d",
   "metadata": {},
   "outputs": [],
   "source": [
    "#Creo poi il dizionario degli altri due generi (saggistica e narrativa russa) con i loro relativi sottodizionari: per saggistica storia e religione,\n",
    "# mentre per narrativa russa a seconda dell'autore dei libri: Dostoesvkij, Tolstoj e Puskin."
   ]
  },
  {
   "cell_type": "code",
   "execution_count": 7,
   "id": "2f5a4924-4853-4b45-b703-bf10c48b062e",
   "metadata": {},
   "outputs": [],
   "source": [
    "saggistica = {\n",
    "    'storia': {\n",
    "        'titolo': ['Le repubbliche marinare', 'Il labirinto di gaza', 'L\\'odio per gli intellettuali in america', 'C\\'era una volta in Italia - Gli anni settanta', 'Tempi di rivolta'],\n",
    "        'autore': ['Arsenio Frugoni', 'Arturo Marzano', 'Richard Hofstadter', 'Enrico Deaglio', 'Aram Mattioli'],\n",
    "        'anno_pubblicazione': [2024, 2024, 2024, 2024, 2024],\n",
    "        'prezzo': [28.50, 26.60, 26.60, 33.25, 30.40]\n",
    "    },\n",
    "    'religione': {\n",
    "        'titolo': ['Profondo come il mare, leggero come il cielo', 'Ritual', 'Trasformare la mente', 'Educazione indiana'],\n",
    "        'autore': ['Gianluca Gotto', 'Dimitris Xygalatas', 'Gyatso Tenzin (Dalai Lama)', 'Ram Pace'],\n",
    "        'anno_pubblicazione': [2023, 2023, 2009, 2003],\n",
    "        'prezzo': [18.52, 21.85, 9.02, 17.10]\n",
    "    },\n",
    "}"
   ]
  },
  {
   "cell_type": "code",
   "execution_count": 9,
   "id": "e76a3392-c55f-445c-ad38-0b27a47d9a54",
   "metadata": {},
   "outputs": [],
   "source": [
    "narrativa_russa = {\n",
    "    'Dostoevskij': {\n",
    "        'titolo': ['Il giocatore', 'Delitto e castigo', 'L\\'idiota', 'I fratelli Karamazov'],\n",
    "        'anno_pubblicazione': [1856, 1866, 1869, 1880],\n",
    "        'prezzo': [9.02, 17.56, 13.77, 7.60]\n",
    "    },\n",
    "    'Tolstoj': {\n",
    "        'titolo': ['Anna Karenina', 'Guerra e pace', 'Resurrezione'],\n",
    "        'anno_pubblicazione': [1877, 1869, 1899],\n",
    "        'prezzo': [12.35, 19.00, 10.49]\n",
    "    },\n",
    "    'Puskin': {\n",
    "        'titolo': ['La dama di picche e altri racconti', 'La figlia del capitano', 'Evgenij Onegin'],\n",
    "        'anno_pubblicazione': [1834, 1836, 1833],\n",
    "        'prezzo': [11.00, 9.50, 6.18]\n",
    "    },\n",
    "}"
   ]
  },
  {
   "cell_type": "code",
   "execution_count": 77,
   "id": "c4ddbdef-ce86-4eea-a1ac-6208237f857f",
   "metadata": {},
   "outputs": [],
   "source": [
    "# CREO IL DATABASE PRINCIPALE DELLA LIBRERIA CHE CONTIENE I 3 DIZIONARI DEI GENERI GIA' PRESENTI"
   ]
  },
  {
   "cell_type": "code",
   "execution_count": 11,
   "id": "e078a09c-899a-457c-b042-f38be01a1f48",
   "metadata": {},
   "outputs": [],
   "source": [
    "database_libreria = {'genere1': fantasy, 'genere2': saggistica, 'genere3': narrativa_russa}"
   ]
  },
  {
   "cell_type": "code",
   "execution_count": 15,
   "id": "2676beb0-7092-4340-b36a-ccd77707c433",
   "metadata": {},
   "outputs": [
    {
     "name": "stdin",
     "output_type": "stream",
     "text": [
      "Inserisci il numero dell'opzione desiderata:  1\n"
     ]
    },
    {
     "name": "stdout",
     "output_type": "stream",
     "text": [
      "Hai scelto di inserire un libro in un nuovo genere.\n"
     ]
    }
   ],
   "source": [
    "# DEFINISCO L'INTERFACCIA DEL MENU HOME DEL DATABASE DELLA LIBRERIA\n",
    "\n",
    "def menu(scelta):\n",
    "    opzioni = {\n",
    "        '1': \"Hai scelto di inserire un libro in un nuovo genere.\",\n",
    "        '2': \"Hai scelto di aggiornare una categoria già esistente.\",\n",
    "        '3': \"Hai scelto di consultare il database.\",\n",
    "        '4': \"Hai scelto di cercare un libro.\",\n",
    "        '5': \"Hai scelto di effettuare una ricerca avanzata.\",\n",
    "        '6': \"Hai scelto di consultare le statistiche.\",\n",
    "        '7': \"Hai scelto di uscire dal programma.\\nAlla prossima!\"\n",
    "    }\n",
    "    return opzioni.get(scelta, \"Scelta non valida. Riprova.\")\n",
    "\n",
    "# Ogni chiave è un numero a cui è abbinato come valore una scelta del menu dell'interfaccia.\n",
    "# La funzione 'menu' utilizza il metodo 'get' del dizionario, che permette di restituire il valore corrispondente alla chiave fornita (scelta).\n",
    "# Nel caso in cui la chiave non sia presente nel dizionario, il metodo 'get' restituisce un valore di default, che in questo caso è \"Scelta non valida. Riprova.\"\n",
    "\n",
    "scelta = input(\"Inserisci il numero dell'opzione desiderata: \")\n",
    "result = menu(scelta)\n",
    "print(result)"
   ]
  },
  {
   "cell_type": "code",
   "execution_count": 81,
   "id": "e86b4d16-3543-47c0-90c9-89252c4989c8",
   "metadata": {},
   "outputs": [],
   "source": [
    "# DEFINISCO IL COMANDO PER REGISTRARE NUOVI LIBRI IN NUOVI GENERI.\n",
    "# Funzione che serve ad aggiungere nuovi generi al dizionario database_libreria.\n",
    "# I parametri della funzione sono quindi i valori delle chiavi del dizionario del nuovo genere."
   ]
  },
  {
   "cell_type": "code",
   "execution_count": 17,
   "id": "ca3bd7a9-ef3c-4b08-866b-6bf64c34523c",
   "metadata": {},
   "outputs": [],
   "source": [
    "def inserire_libro_nuovo_genere(nome_genere, titolo, autore, anno_pubblicazione, prezzo):\n",
    "    dettagli_libro = {\n",
    "         'titolo': [titolo],\n",
    "         'autore': [autore],\n",
    "         'anno_pubblicazione': [anno_pubblicazione],\n",
    "         'prezzo': [prezzo]}\n",
    "# Dato che in database_libreria ogni chiave termina con un numero (genere1, genere2 ecc), desidero che la funzione attribuisca un numero crescente al nuovo genere da inserire.\n",
    "    max_numero = max(int(key.replace('genere', '')) for key in database_libreria.keys())\n",
    "    nuova_chiave = 'genere' + str(max_numero + 1)\n",
    "# Così faccio in modo di definire anche il sottodizionario del nuovo genere, con il nome vero e proprio del genere e tutti i dettagli del suo primo libro.\n",
    "    database_libreria[nuova_chiave] = {nome_genere: dettagli_libro}\n",
    "    print(f\"Nuovo libro aggiunto nel {nuova_chiave} - ('{nome_genere}'): {database_libreria[nuova_chiave]}\")"
   ]
  },
  {
   "cell_type": "code",
   "execution_count": 53,
   "id": "eaad5966-5219-4a40-aeef-27088cea68ff",
   "metadata": {},
   "outputs": [],
   "source": [
    "#ESEMPIO aggiungendo un libro al nuovo genere narrativa_italiana in database_libreria:"
   ]
  },
  {
   "cell_type": "code",
   "execution_count": 19,
   "id": "44687aa6-c02f-4ca5-af97-3198d10f687b",
   "metadata": {},
   "outputs": [
    {
     "name": "stdout",
     "output_type": "stream",
     "text": [
      "Nuovo libro aggiunto nel genere4 - ('narrativa_italiana'): {'narrativa_italiana': {'titolo': ['Uno nessuno e centomila'], 'autore': ['Luigi Pirandello'], 'anno_pubblicazione': [1926], 'prezzo': [6.0]}}\n"
     ]
    }
   ],
   "source": [
    "inserire_libro_nuovo_genere('narrativa_italiana', 'Uno nessuno e centomila', 'Luigi Pirandello', 1926, 6.00)"
   ]
  },
  {
   "cell_type": "code",
   "execution_count": 83,
   "id": "0ca152cf-1020-44b5-bd94-ec0ece3ce9c1",
   "metadata": {},
   "outputs": [],
   "source": [
    "# DEFINISCO IL COMANDO PER REGISTRARE NUOVI LIBRI IN CATEGORIE GIA' ESISTENTI.\n",
    "# Funzione che deve quindi aggiornare un dizionario già esistente."
   ]
  },
  {
   "cell_type": "code",
   "execution_count": 21,
   "id": "1301bc7c-d350-4bff-ab06-a4d9548a5695",
   "metadata": {},
   "outputs": [],
   "source": [
    "def aggiornare_genere(dizionario, nome_categoria, titolo, autore, anno, prezzo):\n",
    "    # Verifica l'esistenza della categoria e delle liste all'interno del dizionario\n",
    "    if nome_categoria in dizionario and all(\n",
    "            chiave in dizionario[nome_categoria] for chiave in ['titolo', 'autore', 'anno_pubblicazione', 'prezzo']):\n",
    "        # Dato che la funzione deve aggiornare liste già esistenti, bisogna aggiungere il titolo alla lista dei titoli e così anche per le altre chiavi.\n",
    "        dizionario[nome_categoria]['titolo'].append(titolo)\n",
    "        dizionario[nome_categoria]['autore'].append(autore)\n",
    "        dizionario[nome_categoria]['anno_pubblicazione'].append(anno)\n",
    "        dizionario[nome_categoria]['prezzo'].append(prezzo)\n",
    "\n",
    "        print(\n",
    "            f\"Aggiunto un nuovo libro alla categoria '{nome_categoria}' con dettagli: titolo={titolo}, autore={autore}, anno={anno}, prezzo={prezzo}\")\n",
    "    else:\n",
    "        print(\"Errore: la categoria non esiste o il dizionario della categoria è incompleto.\")"
   ]
  },
  {
   "cell_type": "code",
   "execution_count": 70,
   "id": "e6736c5a-0271-41e6-ba72-4231212eb3e5",
   "metadata": {},
   "outputs": [],
   "source": [
    "#ESEMPIO CON FANTASY: aggiungo un nuovo libro al suo sottodizionario nuove uscite"
   ]
  },
  {
   "cell_type": "code",
   "execution_count": 23,
   "id": "8f404ca1-2f8c-4c95-be22-2ed6109e0e65",
   "metadata": {},
   "outputs": [
    {
     "name": "stdout",
     "output_type": "stream",
     "text": [
      "Aggiunto un nuovo libro alla categoria 'nuove uscite' con dettagli: titolo=Phantasma, autore=Kaylie Smith, anno=2025, prezzo=17.1\n"
     ]
    }
   ],
   "source": [
    "aggiornare_genere(fantasy, 'nuove uscite', 'Phantasma', 'Kaylie Smith', 2025, 17.10)"
   ]
  },
  {
   "cell_type": "code",
   "execution_count": 98,
   "id": "81dc7527-2d58-4fcd-977e-77654716ee92",
   "metadata": {},
   "outputs": [],
   "source": [
    "# DEFINISCO LA FUNZIONE PER VISUALIZZARE TUTTI GLI ELEMENTI PRESENTI NEL DATABASE.\n",
    "# Faccio riferimento al dizionario che contiene tutti i generi presenti, ovvero database_libreria"
   ]
  },
  {
   "cell_type": "code",
   "execution_count": 25,
   "id": "b0f9cdff-a4fc-4176-b094-f7a73d6a6b6d",
   "metadata": {},
   "outputs": [],
   "source": [
    "def visualizzazione():\n",
    "    print(database_libreria)"
   ]
  },
  {
   "cell_type": "code",
   "execution_count": 27,
   "id": "834007d3-a400-4ffc-8d85-5a260f400cf9",
   "metadata": {},
   "outputs": [
    {
     "name": "stdout",
     "output_type": "stream",
     "text": [
      "{'genere1': {'saghe': {'titolo': ['Game of Thrones', 'Harry Potter', 'Il signore degli anelli', 'Le cronache di Narnia', 'Nevernight'], 'autore': ['George R. R. Martin', 'J K Rowling', 'John R. R. Tolkien', 'Clive S. Lewis', 'Jay Kristoff'], 'anno_pubblicazione': [1997, 1998, 1954, 1950, 2016], 'prezzo': [30.75, 12.9, 47.5, 22.8, 19.0]}, 'nuove uscite': {'titolo': ['Il maestro di spada', 'Abissi e Incanto', 'The Final Strife', 'Sister of Swords and Shadow', 'Guilty Drunk in Love', 'Phantasma'], 'autore': ['Sam Feuerbach', 'Ella Archer', 'Saara El-Arifi', 'Bates Laura', 'Rokia', 'Kaylie Smith'], 'anno_pubblicazione': [2024, 2024, 2024, 2024, 2024, 2025], 'prezzo': [19.99, 22.8, 13.99, 17.1, 16.05, 17.1]}}, 'genere2': {'storia': {'titolo': ['Le repubbliche marinare', 'Il labirinto di gaza', \"L'odio per gli intellettuali in america\", \"C'era una volta in Italia - Gli anni settanta\", 'Tempi di rivolta'], 'autore': ['Arsenio Frugoni', 'Arturo Marzano', 'Richard Hofstadter', 'Enrico Deaglio', 'Aram Mattioli'], 'anno_pubblicazione': [2024, 2024, 2024, 2024, 2024], 'prezzo': [28.5, 26.6, 26.6, 33.25, 30.4]}, 'religione': {'titolo': ['Profondo come il mare, leggero come il cielo', 'Ritual', 'Trasformare la mente', 'Educazione indiana'], 'autore': ['Gianluca Gotto', 'Dimitris Xygalatas', 'Gyatso Tenzin (Dalai Lama)', 'Ram Pace'], 'anno_pubblicazione': [2023, 2023, 2009, 2003], 'prezzo': [18.52, 21.85, 9.02, 17.1]}}, 'genere3': {'Dostoevskij': {'titolo': ['Il giocatore', 'Delitto e castigo', \"L'idiota\", 'I fratelli Karamazov'], 'anno_pubblicazione': [1856, 1866, 1869, 1880], 'prezzo': [9.02, 17.56, 13.77, 7.6]}, 'Tolstoj': {'titolo': ['Anna Karenina', 'Guerra e pace', 'Resurrezione'], 'anno_pubblicazione': [1877, 1869, 1899], 'prezzo': [12.35, 19.0, 10.49]}, 'Puskin': {'titolo': ['La dama di picche e altri racconti', 'La figlia del capitano', 'Evgenij Onegin'], 'anno_pubblicazione': [1834, 1836, 1833], 'prezzo': [11.0, 9.5, 6.18]}}, 'genere4': {'narrativa_italiana': {'titolo': ['Uno nessuno e centomila'], 'autore': ['Luigi Pirandello'], 'anno_pubblicazione': [1926], 'prezzo': [6.0]}}}\n"
     ]
    }
   ],
   "source": [
    "visualizzazione()"
   ]
  },
  {
   "cell_type": "code",
   "execution_count": 118,
   "id": "b5f50cb6-9256-4a59-8086-8bc0c63255ce",
   "metadata": {},
   "outputs": [],
   "source": [
    "# DEFINISCO LA FUNZIONE DI RICERCA LIBRI IN BASE AGLI ATTRIBUTI\n",
    "# La prima funzione di ricerca serve a cercare i libri per categoria, restituendo una lista dei loro titoli."
   ]
  },
  {
   "cell_type": "code",
   "execution_count": 29,
   "id": "b1cb2dcc-5fa2-4e03-be92-ae66730e894d",
   "metadata": {},
   "outputs": [],
   "source": [
    "def ricerca_per_titolo(dizionario, categoria):\n",
    "    # Mi assicuro che la categoria esista nel dizionario\n",
    "    if categoria in dizionario:\n",
    "        # Accedo direttamente alla lista di titoli nella categoria\n",
    "        lista_titoli = dizionario[categoria]['titolo']\n",
    "        # Creo una stringa con tutti i titoli separati da virgole\n",
    "        titoli_concatenati = ', '.join(lista_titoli)\n",
    "        print(f\"Ecco i libri disponibili nella categoria {categoria}: {titoli_concatenati}\")\n",
    "    else:\n",
    "        print(f\"Errore: la categoria '{categoria}' non esiste nel dizionario.\")"
   ]
  },
  {
   "cell_type": "code",
   "execution_count": 126,
   "id": "e539a89d-051d-468d-83ae-2cf92f41f8d2",
   "metadata": {},
   "outputs": [],
   "source": [
    "# ESEMPIO cercando quali sono i libri di Dostoevskij presenti del database"
   ]
  },
  {
   "cell_type": "code",
   "execution_count": 31,
   "id": "5761fcc0-356d-4c44-93cc-a7703b91ba77",
   "metadata": {},
   "outputs": [
    {
     "name": "stdout",
     "output_type": "stream",
     "text": [
      "Ecco i libri disponibili nella categoria Dostoevskij: Il giocatore, Delitto e castigo, L'idiota, I fratelli Karamazov\n"
     ]
    }
   ],
   "source": [
    "ricerca_per_titolo(narrativa_russa, 'Dostoevskij')"
   ]
  },
  {
   "cell_type": "code",
   "execution_count": 57,
   "id": "fa3d51d9-51a5-47c9-9aa7-d2e43e45d0c6",
   "metadata": {},
   "outputs": [],
   "source": [
    "# La seconda funzione di ricerca serve a cercare informazioni più specifiche dei libri in base alla loro categoria, come il solo prezzo."
   ]
  },
  {
   "cell_type": "code",
   "execution_count": 33,
   "id": "d4bde627-cd7c-4586-ad46-85025ad94870",
   "metadata": {},
   "outputs": [],
   "source": [
    "def ricerca_per_attributo_specifico(dizionario, categoria, chiave):\n",
    "    if categoria in dizionario:\n",
    "        if chiave in dizionario[categoria]:\n",
    "            print(f\"L'attributo '{chiave}' nella categoria '{categoria}' è: {dizionario[categoria][chiave]}\")\n",
    "        else:\n",
    "            print(f\"L'attributo '{chiave}' non è presente nella categoria '{categoria}'.\")\n",
    "    else:\n",
    "        print(f\"La categoria '{categoria}' non è presente nel dizionario.\")"
   ]
  },
  {
   "cell_type": "code",
   "execution_count": 35,
   "id": "c0c34345-d7eb-437e-982d-c70b9973132a",
   "metadata": {},
   "outputs": [
    {
     "name": "stdout",
     "output_type": "stream",
     "text": [
      "L'attributo 'prezzo' nella categoria 'nuove uscite' è: [19.99, 22.8, 13.99, 17.1, 16.05, 17.1]\n"
     ]
    }
   ],
   "source": [
    "# ESEMPIO cercando il costo delle nuove uscite del genere fantasy.\n",
    "\n",
    "ricerca_per_attributo_specifico(fantasy, 'nuove uscite', 'prezzo')"
   ]
  },
  {
   "cell_type": "code",
   "execution_count": 85,
   "id": "e725040c-8627-4466-a7e4-a415b78f60f8",
   "metadata": {},
   "outputs": [],
   "source": [
    "# DEFINISCO LA FUNZIONE DI CALCOLO DELLE STATISTICHE.\n",
    "# Imposto la statistica per contare i libri del dataset usciti nel 1800 per genere."
   ]
  },
  {
   "cell_type": "code",
   "execution_count": 59,
   "id": "c4abf742-b126-4174-a8ee-980302e8fdbd",
   "metadata": {},
   "outputs": [],
   "source": [
    "def statistiche_1800(dizionario):\n",
    "    conta = 0\n",
    "# La variabile \"conta\" sarà usata per tracciare il numero totale di libri pubblicati nel range di anni specificato.\n",
    "    for chiave, valore in dizionario.items():\n",
    "# La funzione procede con un ciclo `for` per iterare sulle coppie chiave-valore del dizionario passato come argomento.\n",
    "        if isinstance(valore, dict):\n",
    "# Utilizzo poi il valore condizionale if con la funzione \"isinstance\" per verificare se un valore nel dizionario è a sua volta un dizionario,\n",
    "# dato che nel mio database possiedo dizionari annidati e altrimenti non mi andrebbe a contare tutti i libri.\n",
    "            for sotto_chiave, sotto_valore in valore.items():\n",
    "                # Vado quindi a iterare sui valori del dizionario annidato.\n",
    "                if sotto_chiave.startswith('anno') and isinstance(sotto_valore, list):\n",
    "                    # Iterazione su ogni anno nella lista sotto_valore per verificare se ciascun elemento (anno) rientra nel range specificato.\n",
    "                    conta += sum(1 for anno in sotto_valore if 1800 <= anno < 1900)\n",
    "    return conta"
   ]
  },
  {
   "cell_type": "code",
   "execution_count": 61,
   "id": "364fc8cb-d270-4578-9d83-f0e3ab83f7c8",
   "metadata": {},
   "outputs": [
    {
     "data": {
      "text/plain": [
       "10"
      ]
     },
     "execution_count": 61,
     "metadata": {},
     "output_type": "execute_result"
    }
   ],
   "source": [
    "#ESEMPIO con il genere narrativa_russa\n",
    "\n",
    "statistiche_1800(narrativa_russa)"
   ]
  },
  {
   "cell_type": "code",
   "execution_count": 63,
   "id": "d397fe8c-87b4-430a-b880-1d6978155f9c",
   "metadata": {},
   "outputs": [],
   "source": [
    "# DEFINISCO LA FUNZIONE DI FILTRAGGIO AVANZATO.\n",
    "# La funzione serve a filtrare i libri usciti dopo il 2000 e che costano meno di 20€"
   ]
  },
  {
   "cell_type": "code",
   "execution_count": 73,
   "id": "a486312f-c735-4d6c-b477-1388306c64a7",
   "metadata": {},
   "outputs": [],
   "source": [
    "def filtraggio_avanzato(dizionario):\n",
    "    # La variabile \"conta\" sarà usata come contatore per tracciare il numero totale di libri pubblicati nel range di anni specificato.\n",
    "    conta = 0\n",
    "    # Ciclo attraverso ogni coppia chiave-valore nel dizionario.\n",
    "    for chiave, valore in dizionario.items():\n",
    "        # Controlla se il valore associato a ciascuna chiave è un dizionario. Questo è necessario perché il valore deve contenere ulteriori dettagli come prezzo e anno.\n",
    "        if isinstance(valore, dict):\n",
    "            # Utilizzo poi il valore condizionale if con la funzione \"isinstance\" per verificare se un valore nel dizionario è a sua volta un dizionario.\n",
    "            prezzi = None\n",
    "            anni_pubblicazione = None\n",
    "            # Inizializzo due variabili a None per memorizzare i prezzi e gli anni di pubblicazione dei libri se e quando verranno identificati nel sotto-dizionario.\n",
    "            for sotto_chiave, sotto_valore in valore.items():\n",
    "                # Ciclo attraverso ogni coppia chiave-valore nel sotto-dizionario, andando a controllare le chiavi prezzo e anno_pubblicazione del sotto-dizionario.\n",
    "                if sotto_chiave == 'prezzo':\n",
    "                    prezzi = sotto_valore\n",
    "                    # Controllate le chiavi, assegno la lista degli anni di pubblicazione alle variabili \"prezzi\" e \"anni_pubblicazione\".\n",
    "                elif sotto_chiave == 'anno_pubblicazione':\n",
    "                    anni_pubblicazione = sotto_valore\n",
    "            if prezzi is not None and anni_pubblicazione is not None:\n",
    "                # Verifico che entrambe le liste, prezzi e anni di pubblicazione, siano state trovate e non siano None.\n",
    "                for prezzo, anno in zip(prezzi, anni_pubblicazione):\n",
    "                    # Combino le liste di prezzi e anni di pubblicazione usando la funzione zip() per creare coppie di prezzo e anno per ogni libro.\n",
    "                    if prezzo < 20.0 and anno > 2000:\n",
    "                        # Se un libro soddisfa entrambi i criteri, il contatore aumenta di 1.\n",
    "                        conta += 1\n",
    "    return conta"
   ]
  },
  {
   "cell_type": "code",
   "execution_count": 75,
   "id": "479c4ea4-4c1e-4eba-972e-21faa56f400d",
   "metadata": {},
   "outputs": [
    {
     "data": {
      "text/plain": [
       "5"
      ]
     },
     "execution_count": 75,
     "metadata": {},
     "output_type": "execute_result"
    }
   ],
   "source": [
    "# ESEMPIO con il genere fantasy\n",
    "\n",
    "filtraggio_avanzato(fantasy)"
   ]
  },
  {
   "cell_type": "code",
   "execution_count": 1,
   "id": "9f787828-1a5d-4639-bf3e-0f9a5d840f47",
   "metadata": {},
   "outputs": [],
   "source": [
    "import pandas as pd"
   ]
  },
  {
   "cell_type": "code",
   "execution_count": 13,
   "id": "d568c3ba-36ec-45f0-ab39-d5140cc1b1c0",
   "metadata": {},
   "outputs": [],
   "source": [
    "Libreria = pd.DataFrame(database_libreria)"
   ]
  },
  {
   "cell_type": "code",
   "execution_count": 15,
   "id": "f027c935-372d-4570-b9a7-e5efb3a88076",
   "metadata": {},
   "outputs": [
    {
     "name": "stdout",
     "output_type": "stream",
     "text": [
      "                                                        genere1  \\\n",
      "saghe         {'titolo': ['Game of Thrones', 'Harry Potter',...   \n",
      "nuove uscite  {'titolo': ['Il maestro di spada', 'Abissi e I...   \n",
      "storia                                                      NaN   \n",
      "religione                                                   NaN   \n",
      "Dostoevskij                                                 NaN   \n",
      "Tolstoj                                                     NaN   \n",
      "Puskin                                                      NaN   \n",
      "\n",
      "                                                        genere2  \\\n",
      "saghe                                                       NaN   \n",
      "nuove uscite                                                NaN   \n",
      "storia        {'titolo': ['Le repubbliche marinare', 'Il lab...   \n",
      "religione     {'titolo': ['Profondo come il mare, leggero co...   \n",
      "Dostoevskij                                                 NaN   \n",
      "Tolstoj                                                     NaN   \n",
      "Puskin                                                      NaN   \n",
      "\n",
      "                                                        genere3  \n",
      "saghe                                                       NaN  \n",
      "nuove uscite                                                NaN  \n",
      "storia                                                      NaN  \n",
      "religione                                                   NaN  \n",
      "Dostoevskij   {'titolo': ['Il giocatore', 'Delitto e castigo...  \n",
      "Tolstoj       {'titolo': ['Anna Karenina', 'Guerra e pace', ...  \n",
      "Puskin        {'titolo': ['La dama di picche e altri raccont...  \n"
     ]
    }
   ],
   "source": [
    "print(Libreria)"
   ]
  },
  {
   "cell_type": "code",
   "execution_count": 17,
   "id": "3aefc0f7-8869-4668-ab9f-4a65696795eb",
   "metadata": {},
   "outputs": [
    {
     "data": {
      "text/html": [
       "<div>\n",
       "<style scoped>\n",
       "    .dataframe tbody tr th:only-of-type {\n",
       "        vertical-align: middle;\n",
       "    }\n",
       "\n",
       "    .dataframe tbody tr th {\n",
       "        vertical-align: top;\n",
       "    }\n",
       "\n",
       "    .dataframe thead th {\n",
       "        text-align: right;\n",
       "    }\n",
       "</style>\n",
       "<table border=\"1\" class=\"dataframe\">\n",
       "  <thead>\n",
       "    <tr style=\"text-align: right;\">\n",
       "      <th></th>\n",
       "      <th>genere1</th>\n",
       "      <th>genere2</th>\n",
       "      <th>genere3</th>\n",
       "    </tr>\n",
       "  </thead>\n",
       "  <tbody>\n",
       "    <tr>\n",
       "      <th>saghe</th>\n",
       "      <td>{'titolo': ['Game of Thrones', 'Harry Potter',...</td>\n",
       "      <td>NaN</td>\n",
       "      <td>NaN</td>\n",
       "    </tr>\n",
       "    <tr>\n",
       "      <th>nuove uscite</th>\n",
       "      <td>{'titolo': ['Il maestro di spada', 'Abissi e I...</td>\n",
       "      <td>NaN</td>\n",
       "      <td>NaN</td>\n",
       "    </tr>\n",
       "    <tr>\n",
       "      <th>storia</th>\n",
       "      <td>NaN</td>\n",
       "      <td>{'titolo': ['Le repubbliche marinare', 'Il lab...</td>\n",
       "      <td>NaN</td>\n",
       "    </tr>\n",
       "    <tr>\n",
       "      <th>religione</th>\n",
       "      <td>NaN</td>\n",
       "      <td>{'titolo': ['Profondo come il mare, leggero co...</td>\n",
       "      <td>NaN</td>\n",
       "    </tr>\n",
       "    <tr>\n",
       "      <th>Dostoevskij</th>\n",
       "      <td>NaN</td>\n",
       "      <td>NaN</td>\n",
       "      <td>{'titolo': ['Il giocatore', 'Delitto e castigo...</td>\n",
       "    </tr>\n",
       "  </tbody>\n",
       "</table>\n",
       "</div>"
      ],
      "text/plain": [
       "                                                        genere1  \\\n",
       "saghe         {'titolo': ['Game of Thrones', 'Harry Potter',...   \n",
       "nuove uscite  {'titolo': ['Il maestro di spada', 'Abissi e I...   \n",
       "storia                                                      NaN   \n",
       "religione                                                   NaN   \n",
       "Dostoevskij                                                 NaN   \n",
       "\n",
       "                                                        genere2  \\\n",
       "saghe                                                       NaN   \n",
       "nuove uscite                                                NaN   \n",
       "storia        {'titolo': ['Le repubbliche marinare', 'Il lab...   \n",
       "religione     {'titolo': ['Profondo come il mare, leggero co...   \n",
       "Dostoevskij                                                 NaN   \n",
       "\n",
       "                                                        genere3  \n",
       "saghe                                                       NaN  \n",
       "nuove uscite                                                NaN  \n",
       "storia                                                      NaN  \n",
       "religione                                                   NaN  \n",
       "Dostoevskij   {'titolo': ['Il giocatore', 'Delitto e castigo...  "
      ]
     },
     "execution_count": 17,
     "metadata": {},
     "output_type": "execute_result"
    }
   ],
   "source": [
    "Libreria.head()"
   ]
  },
  {
   "cell_type": "code",
   "execution_count": 19,
   "id": "c93ab2fe-d7e9-455b-9eec-f6ee663e30e1",
   "metadata": {},
   "outputs": [
    {
     "data": {
      "text/html": [
       "<div>\n",
       "<style scoped>\n",
       "    .dataframe tbody tr th:only-of-type {\n",
       "        vertical-align: middle;\n",
       "    }\n",
       "\n",
       "    .dataframe tbody tr th {\n",
       "        vertical-align: top;\n",
       "    }\n",
       "\n",
       "    .dataframe thead th {\n",
       "        text-align: right;\n",
       "    }\n",
       "</style>\n",
       "<table border=\"1\" class=\"dataframe\">\n",
       "  <thead>\n",
       "    <tr style=\"text-align: right;\">\n",
       "      <th></th>\n",
       "      <th>genere1</th>\n",
       "      <th>genere2</th>\n",
       "      <th>genere3</th>\n",
       "    </tr>\n",
       "  </thead>\n",
       "  <tbody>\n",
       "    <tr>\n",
       "      <th>storia</th>\n",
       "      <td>NaN</td>\n",
       "      <td>{'titolo': ['Le repubbliche marinare', 'Il lab...</td>\n",
       "      <td>NaN</td>\n",
       "    </tr>\n",
       "    <tr>\n",
       "      <th>religione</th>\n",
       "      <td>NaN</td>\n",
       "      <td>{'titolo': ['Profondo come il mare, leggero co...</td>\n",
       "      <td>NaN</td>\n",
       "    </tr>\n",
       "    <tr>\n",
       "      <th>Dostoevskij</th>\n",
       "      <td>NaN</td>\n",
       "      <td>NaN</td>\n",
       "      <td>{'titolo': ['Il giocatore', 'Delitto e castigo...</td>\n",
       "    </tr>\n",
       "    <tr>\n",
       "      <th>Tolstoj</th>\n",
       "      <td>NaN</td>\n",
       "      <td>NaN</td>\n",
       "      <td>{'titolo': ['Anna Karenina', 'Guerra e pace', ...</td>\n",
       "    </tr>\n",
       "    <tr>\n",
       "      <th>Puskin</th>\n",
       "      <td>NaN</td>\n",
       "      <td>NaN</td>\n",
       "      <td>{'titolo': ['La dama di picche e altri raccont...</td>\n",
       "    </tr>\n",
       "  </tbody>\n",
       "</table>\n",
       "</div>"
      ],
      "text/plain": [
       "            genere1                                            genere2  \\\n",
       "storia          NaN  {'titolo': ['Le repubbliche marinare', 'Il lab...   \n",
       "religione       NaN  {'titolo': ['Profondo come il mare, leggero co...   \n",
       "Dostoevskij     NaN                                                NaN   \n",
       "Tolstoj         NaN                                                NaN   \n",
       "Puskin          NaN                                                NaN   \n",
       "\n",
       "                                                       genere3  \n",
       "storia                                                     NaN  \n",
       "religione                                                  NaN  \n",
       "Dostoevskij  {'titolo': ['Il giocatore', 'Delitto e castigo...  \n",
       "Tolstoj      {'titolo': ['Anna Karenina', 'Guerra e pace', ...  \n",
       "Puskin       {'titolo': ['La dama di picche e altri raccont...  "
      ]
     },
     "execution_count": 19,
     "metadata": {},
     "output_type": "execute_result"
    }
   ],
   "source": [
    "Libreria.tail()"
   ]
  },
  {
   "cell_type": "code",
   "execution_count": 21,
   "id": "d8d35b06-0ca0-4a03-9cff-99c1ada0870d",
   "metadata": {},
   "outputs": [
    {
     "name": "stdout",
     "output_type": "stream",
     "text": [
      "<class 'pandas.core.frame.DataFrame'>\n",
      "Index: 7 entries, saghe to Puskin\n",
      "Data columns (total 3 columns):\n",
      " #   Column   Non-Null Count  Dtype \n",
      "---  ------   --------------  ----- \n",
      " 0   genere1  2 non-null      object\n",
      " 1   genere2  2 non-null      object\n",
      " 2   genere3  3 non-null      object\n",
      "dtypes: object(3)\n",
      "memory usage: 224.0+ bytes\n"
     ]
    }
   ],
   "source": [
    "Libreria.info()"
   ]
  }
 ],
 "metadata": {
  "kernelspec": {
   "display_name": "Python 3 (ipykernel)",
   "language": "python",
   "name": "python3"
  },
  "language_info": {
   "codemirror_mode": {
    "name": "ipython",
    "version": 3
   },
   "file_extension": ".py",
   "mimetype": "text/x-python",
   "name": "python",
   "nbconvert_exporter": "python",
   "pygments_lexer": "ipython3",
   "version": "3.12.4"
  }
 },
 "nbformat": 4,
 "nbformat_minor": 5
}
