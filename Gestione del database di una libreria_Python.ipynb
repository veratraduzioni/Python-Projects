{
 "cells": [
  {
   "cell_type": "markdown",
   "id": "6514125d-cfd6-4183-b74f-1b5204a7c77d",
   "metadata": {},
   "source": [
    "Per questo progetto ho ideato il database di una libreria con alcuni libri già presenti per poi impostare le varie funzioni richieste da start2impact.\n",
    "\n",
    "# Definisco i libri già presenti del database della libreria"
   ]
  },
  {
   "cell_type": "markdown",
   "id": "514f1324-0649-4fe7-867a-1c50512cc150",
   "metadata": {},
   "source": [
    "Per ogni genere creo un suo dizionario.\n",
    "<br> Il genere fantasy ha due dizionari annidati per distinguere le saghe dalle nuove uscite."
   ]
  },
  {
   "cell_type": "code",
   "execution_count": 10,
   "id": "479da8ad-3588-4bab-bb94-2f65d4881ee8",
   "metadata": {},
   "outputs": [],
   "source": [
    "fantasy = {\n",
    "    'saghe': {\n",
    "        'titolo': ['Game of Thrones', 'Harry Potter', 'Il signore degli anelli', 'Le cronache di Narnia', 'Nevernight'],\n",
    "        'autore': ['George R. R. Martin', 'J K Rowling', 'John R. R. Tolkien', 'Clive S. Lewis', 'Jay Kristoff'],\n",
    "        'anno_pubblicazione': [1997, 1998, 1954, 1950, 2016],\n",
    "        'prezzo': [30.75, 12.90, 47.50, 22.80, 19.00]\n",
    "    },\n",
    "    'nuove uscite': {\n",
    "        'titolo': ['Il maestro di spada', 'Abissi e Incanto', 'The Final Strife', 'Sister of Swords and Shadow', 'Guilty Drunk in Love'],\n",
    "        'autore': ['Sam Feuerbach', 'Ella Archer', 'Saara El-Arifi', 'Bates Laura', 'Rokia'],\n",
    "        'anno_pubblicazione': [2024, 2024, 2024, 2024, 2024],\n",
    "        'prezzo': [19.99, 22.80, 13.99, 17.10, 16.05]\n",
    "    }\n",
    "}"
   ]
  },
  {
   "cell_type": "markdown",
   "id": "e9e82875-333e-44e7-bf0e-18c3d6c074d0",
   "metadata": {},
   "source": [
    "Dato che ogni valore della chiave è contenuto in una lista, si può accedere a ogni singolo libro o consultare un genere specificando la chiave del dizionario e il suo indice."
   ]
  },
  {
   "cell_type": "code",
   "execution_count": 12,
   "id": "0c8b98bd-3988-444f-830a-d8972c601458",
   "metadata": {},
   "outputs": [
    {
     "name": "stdout",
     "output_type": "stream",
     "text": [
      "Harry Potter\n"
     ]
    }
   ],
   "source": [
    "#ESEMPIO per trovare il titolo di Harry Potter\n",
    "print(fantasy['saghe']['titolo'][1])"
   ]
  },
  {
   "cell_type": "markdown",
   "id": "efaff1ac-35e6-4283-89af-9fdd44b66431",
   "metadata": {},
   "source": [
    "Creo poi il dizionario degli altri due generi (saggistica e narrativa russa) con i loro relativi sottodizionari: per saggistica storia e religione, mentre per narrativa russa a seconda dell'autore dei libri: Dostoesvkij, Tolstoj e Puskin."
   ]
  },
  {
   "cell_type": "code",
   "execution_count": 16,
   "id": "2f5a4924-4853-4b45-b703-bf10c48b062e",
   "metadata": {},
   "outputs": [],
   "source": [
    "saggistica = {\n",
    "    'storia': {\n",
    "        'titolo': ['Le repubbliche marinare', 'Il labirinto di gaza', 'L\\'odio per gli intellettuali in america', 'C\\'era una volta in Italia - Gli anni settanta', 'Tempi di rivolta'],\n",
    "        'autore': ['Arsenio Frugoni', 'Arturo Marzano', 'Richard Hofstadter', 'Enrico Deaglio', 'Aram Mattioli'],\n",
    "        'anno_pubblicazione': [2024, 2024, 2024, 2024, 2024],\n",
    "        'prezzo': [28.50, 26.60, 26.60, 33.25, 30.40]\n",
    "    },\n",
    "    'religione': {\n",
    "        'titolo': ['Profondo come il mare, leggero come il cielo', 'Ritual', 'Trasformare la mente', 'Educazione indiana'],\n",
    "        'autore': ['Gianluca Gotto', 'Dimitris Xygalatas', 'Gyatso Tenzin (Dalai Lama)', 'Ram Pace'],\n",
    "        'anno_pubblicazione': [2023, 2023, 2009, 2003],\n",
    "        'prezzo': [18.52, 21.85, 9.02, 17.10]\n",
    "    },\n",
    "}"
   ]
  },
  {
   "cell_type": "code",
   "execution_count": 18,
   "id": "e76a3392-c55f-445c-ad38-0b27a47d9a54",
   "metadata": {},
   "outputs": [],
   "source": [
    "narrativa_russa = {\n",
    "    'Dostoevskij': {\n",
    "        'titolo': ['Il giocatore', 'Delitto e castigo', 'L\\'idiota', 'I fratelli Karamazov'],\n",
    "        'anno_pubblicazione': [1856, 1866, 1869, 1880],\n",
    "        'prezzo': [9.02, 17.56, 13.77, 7.60]\n",
    "    },\n",
    "    'Tolstoj': {\n",
    "        'titolo': ['Anna Karenina', 'Guerra e pace', 'Resurrezione'],\n",
    "        'anno_pubblicazione': [1877, 1869, 1899],\n",
    "        'prezzo': [12.35, 19.00, 10.49]\n",
    "    },\n",
    "    'Puskin': {\n",
    "        'titolo': ['La dama di picche e altri racconti', 'La figlia del capitano', 'Evgenij Onegin'],\n",
    "        'anno_pubblicazione': [1834, 1836, 1833],\n",
    "        'prezzo': [11.00, 9.50, 6.18]\n",
    "    },\n",
    "}"
   ]
  },
  {
   "cell_type": "markdown",
   "id": "cd1f030e-a087-45ef-8278-372ac3ecd115",
   "metadata": {},
   "source": [
    "# Creo il database principale della libreria che contiene i 3 dizionari dei generi già presenti"
   ]
  },
  {
   "cell_type": "code",
   "execution_count": 22,
   "id": "e078a09c-899a-457c-b042-f38be01a1f48",
   "metadata": {},
   "outputs": [],
   "source": [
    "database_libreria = {'genere1': fantasy, 'genere2': saggistica, 'genere3': narrativa_russa}"
   ]
  },
  {
   "cell_type": "markdown",
   "id": "32037300-4e92-497c-88cb-3786385dd077",
   "metadata": {},
   "source": [
    "# Definisco l'interfaccia del menu home del database della libreria"
   ]
  },
  {
   "cell_type": "code",
   "execution_count": 24,
   "id": "2676beb0-7092-4340-b36a-ccd77707c433",
   "metadata": {},
   "outputs": [
    {
     "name": "stdin",
     "output_type": "stream",
     "text": [
      "Inserisci il numero dell'opzione desiderata:  1\n"
     ]
    },
    {
     "name": "stdout",
     "output_type": "stream",
     "text": [
      "Hai scelto di inserire un libro in un nuovo genere.\n"
     ]
    }
   ],
   "source": [
    "def menu(scelta):\n",
    "    opzioni = {\n",
    "        '1': \"Hai scelto di inserire un libro in un nuovo genere.\",\n",
    "        '2': \"Hai scelto di aggiornare una categoria già esistente.\",\n",
    "        '3': \"Hai scelto di consultare il database.\",\n",
    "        '4': \"Hai scelto di cercare un libro.\",\n",
    "        '5': \"Hai scelto di effettuare una ricerca avanzata.\",\n",
    "        '6': \"Hai scelto di consultare le statistiche.\",\n",
    "        '7': \"Hai scelto di uscire dal programma.\\nAlla prossima!\"\n",
    "    }\n",
    "    return opzioni.get(scelta, \"Scelta non valida. Riprova.\")\n",
    "\n",
    "# Ogni chiave è un numero a cui è abbinato come valore una scelta del menu dell'interfaccia.\n",
    "# La funzione 'menu' utilizza il metodo 'get' del dizionario, che permette di restituire il valore corrispondente alla chiave fornita (scelta).\n",
    "# Nel caso in cui la chiave non sia presente nel dizionario, il metodo 'get' restituisce un valore di default, che in questo caso è \"Scelta non valida. Riprova.\"\n",
    "\n",
    "scelta = input(\"Inserisci il numero dell'opzione desiderata: \")\n",
    "result = menu(scelta)\n",
    "print(result)"
   ]
  },
  {
   "cell_type": "markdown",
   "id": "c6ab8c8c-36cb-47df-84ba-0cb30d044def",
   "metadata": {},
   "source": [
    "# Definisco il comando per registrare nuovi libri in nuovi generi\n",
    "Funzione che serve ad aggiungere nuovi generi al dizionario database_libreria.\n",
    "<br> I parametri della funzione sono quindi i valori delle chiavi del dizionario del nuovo genere."
   ]
  },
  {
   "cell_type": "code",
   "execution_count": 29,
   "id": "ca3bd7a9-ef3c-4b08-866b-6bf64c34523c",
   "metadata": {},
   "outputs": [],
   "source": [
    "def inserire_libro_nuovo_genere(nome_genere, titolo, autore, anno_pubblicazione, prezzo):\n",
    "    dettagli_libro = {\n",
    "         'titolo': [titolo],\n",
    "         'autore': [autore],\n",
    "         'anno_pubblicazione': [anno_pubblicazione],\n",
    "         'prezzo': [prezzo]}\n",
    "# Dato che in database_libreria ogni chiave termina con un numero (genere1, genere2 ecc), desidero che la funzione attribuisca un numero crescente al nuovo genere da inserire.\n",
    "    max_numero = max(int(key.replace('genere', '')) for key in database_libreria.keys())\n",
    "    nuova_chiave = 'genere' + str(max_numero + 1)\n",
    "# Così faccio in modo di definire anche il sottodizionario del nuovo genere, con il nome vero e proprio del genere e tutti i dettagli del suo primo libro.\n",
    "    database_libreria[nuova_chiave] = {nome_genere: dettagli_libro}\n",
    "    print(f\"Nuovo libro aggiunto nel {nuova_chiave} - ('{nome_genere}'): {database_libreria[nuova_chiave]}\")"
   ]
  },
  {
   "cell_type": "code",
   "execution_count": 53,
   "id": "eaad5966-5219-4a40-aeef-27088cea68ff",
   "metadata": {},
   "outputs": [],
   "source": [
    "#ESEMPIO aggiungendo un libro al nuovo genere narrativa_italiana in database_libreria:"
   ]
  },
  {
   "cell_type": "code",
   "execution_count": 19,
   "id": "44687aa6-c02f-4ca5-af97-3198d10f687b",
   "metadata": {},
   "outputs": [
    {
     "name": "stdout",
     "output_type": "stream",
     "text": [
      "Nuovo libro aggiunto nel genere4 - ('narrativa_italiana'): {'narrativa_italiana': {'titolo': ['Uno nessuno e centomila'], 'autore': ['Luigi Pirandello'], 'anno_pubblicazione': [1926], 'prezzo': [6.0]}}\n"
     ]
    }
   ],
   "source": [
    "inserire_libro_nuovo_genere('narrativa_italiana', 'Uno nessuno e centomila', 'Luigi Pirandello', 1926, 6.00)"
   ]
  },
  {
   "cell_type": "markdown",
   "id": "4f29d022-ae06-4406-9221-00f003979453",
   "metadata": {},
   "source": [
    "# Definisco il comando per registrare nuovi libri in categorie già esistenti\n",
    "Funzione che deve quindi aggiornare un dizionario già esistente."
   ]
  },
  {
   "cell_type": "code",
   "execution_count": 33,
   "id": "1301bc7c-d350-4bff-ab06-a4d9548a5695",
   "metadata": {},
   "outputs": [],
   "source": [
    "def aggiornare_genere(dizionario, nome_categoria, titolo, autore, anno, prezzo):\n",
    "    # Verifica l'esistenza della categoria e delle liste all'interno del dizionario\n",
    "    if nome_categoria in dizionario and all(\n",
    "            chiave in dizionario[nome_categoria] for chiave in ['titolo', 'autore', 'anno_pubblicazione', 'prezzo']):\n",
    "        # Dato che la funzione deve aggiornare liste già esistenti, bisogna aggiungere il titolo alla lista dei titoli e così anche per le altre chiavi.\n",
    "        dizionario[nome_categoria]['titolo'].append(titolo)\n",
    "        dizionario[nome_categoria]['autore'].append(autore)\n",
    "        dizionario[nome_categoria]['anno_pubblicazione'].append(anno)\n",
    "        dizionario[nome_categoria]['prezzo'].append(prezzo)\n",
    "\n",
    "        print(\n",
    "            f\"Aggiunto un nuovo libro alla categoria '{nome_categoria}' con dettagli: titolo={titolo}, autore={autore}, anno={anno}, prezzo={prezzo}\")\n",
    "    else:\n",
    "        print(\"Errore: la categoria non esiste o il dizionario della categoria è incompleto.\")"
   ]
  },
  {
   "cell_type": "code",
   "execution_count": 70,
   "id": "e6736c5a-0271-41e6-ba72-4231212eb3e5",
   "metadata": {},
   "outputs": [],
   "source": [
    "#ESEMPIO CON FANTASY: aggiungo un nuovo libro al suo sottodizionario nuove uscite"
   ]
  },
  {
   "cell_type": "code",
   "execution_count": 23,
   "id": "8f404ca1-2f8c-4c95-be22-2ed6109e0e65",
   "metadata": {},
   "outputs": [
    {
     "name": "stdout",
     "output_type": "stream",
     "text": [
      "Aggiunto un nuovo libro alla categoria 'nuove uscite' con dettagli: titolo=Phantasma, autore=Kaylie Smith, anno=2025, prezzo=17.1\n"
     ]
    }
   ],
   "source": [
    "aggiornare_genere(fantasy, 'nuove uscite', 'Phantasma', 'Kaylie Smith', 2025, 17.10)"
   ]
  },
  {
   "cell_type": "markdown",
   "id": "b137179c-16c7-42e0-b13c-d1346182441a",
   "metadata": {},
   "source": [
    "# Definisco la funzione per visualizzare tutti gli elementi presenti del database\n",
    "Faccio riferimento al dizionario che contiene tutti i generi presenti, ovvero database_libreria"
   ]
  },
  {
   "cell_type": "code",
   "execution_count": 25,
   "id": "b0f9cdff-a4fc-4176-b094-f7a73d6a6b6d",
   "metadata": {},
   "outputs": [],
   "source": [
    "def visualizzazione():\n",
    "    print(database_libreria)"
   ]
  },
  {
   "cell_type": "code",
   "execution_count": 27,
   "id": "834007d3-a400-4ffc-8d85-5a260f400cf9",
   "metadata": {},
   "outputs": [
    {
     "name": "stdout",
     "output_type": "stream",
     "text": [
      "{'genere1': {'saghe': {'titolo': ['Game of Thrones', 'Harry Potter', 'Il signore degli anelli', 'Le cronache di Narnia', 'Nevernight'], 'autore': ['George R. R. Martin', 'J K Rowling', 'John R. R. Tolkien', 'Clive S. Lewis', 'Jay Kristoff'], 'anno_pubblicazione': [1997, 1998, 1954, 1950, 2016], 'prezzo': [30.75, 12.9, 47.5, 22.8, 19.0]}, 'nuove uscite': {'titolo': ['Il maestro di spada', 'Abissi e Incanto', 'The Final Strife', 'Sister of Swords and Shadow', 'Guilty Drunk in Love', 'Phantasma'], 'autore': ['Sam Feuerbach', 'Ella Archer', 'Saara El-Arifi', 'Bates Laura', 'Rokia', 'Kaylie Smith'], 'anno_pubblicazione': [2024, 2024, 2024, 2024, 2024, 2025], 'prezzo': [19.99, 22.8, 13.99, 17.1, 16.05, 17.1]}}, 'genere2': {'storia': {'titolo': ['Le repubbliche marinare', 'Il labirinto di gaza', \"L'odio per gli intellettuali in america\", \"C'era una volta in Italia - Gli anni settanta\", 'Tempi di rivolta'], 'autore': ['Arsenio Frugoni', 'Arturo Marzano', 'Richard Hofstadter', 'Enrico Deaglio', 'Aram Mattioli'], 'anno_pubblicazione': [2024, 2024, 2024, 2024, 2024], 'prezzo': [28.5, 26.6, 26.6, 33.25, 30.4]}, 'religione': {'titolo': ['Profondo come il mare, leggero come il cielo', 'Ritual', 'Trasformare la mente', 'Educazione indiana'], 'autore': ['Gianluca Gotto', 'Dimitris Xygalatas', 'Gyatso Tenzin (Dalai Lama)', 'Ram Pace'], 'anno_pubblicazione': [2023, 2023, 2009, 2003], 'prezzo': [18.52, 21.85, 9.02, 17.1]}}, 'genere3': {'Dostoevskij': {'titolo': ['Il giocatore', 'Delitto e castigo', \"L'idiota\", 'I fratelli Karamazov'], 'anno_pubblicazione': [1856, 1866, 1869, 1880], 'prezzo': [9.02, 17.56, 13.77, 7.6]}, 'Tolstoj': {'titolo': ['Anna Karenina', 'Guerra e pace', 'Resurrezione'], 'anno_pubblicazione': [1877, 1869, 1899], 'prezzo': [12.35, 19.0, 10.49]}, 'Puskin': {'titolo': ['La dama di picche e altri racconti', 'La figlia del capitano', 'Evgenij Onegin'], 'anno_pubblicazione': [1834, 1836, 1833], 'prezzo': [11.0, 9.5, 6.18]}}, 'genere4': {'narrativa_italiana': {'titolo': ['Uno nessuno e centomila'], 'autore': ['Luigi Pirandello'], 'anno_pubblicazione': [1926], 'prezzo': [6.0]}}}\n"
     ]
    }
   ],
   "source": [
    "visualizzazione()"
   ]
  },
  {
   "cell_type": "markdown",
   "id": "44c88312-11ad-4ecd-80a2-296ab7d419bc",
   "metadata": {},
   "source": [
    "# Definisco la funzione di ricerca libri in base agli attributi\n",
    "La prima funzione di ricerca serve a cercare i libri per categoria, restituendo una lista dei loro titoli."
   ]
  },
  {
   "cell_type": "code",
   "execution_count": 36,
   "id": "b1cb2dcc-5fa2-4e03-be92-ae66730e894d",
   "metadata": {},
   "outputs": [],
   "source": [
    "def ricerca_per_titolo(dizionario, categoria):\n",
    "    # Mi assicuro che la categoria esista nel dizionario\n",
    "    if categoria in dizionario:\n",
    "        # Accedo direttamente alla lista di titoli nella categoria\n",
    "        lista_titoli = dizionario[categoria]['titolo']\n",
    "        # Creo una stringa con tutti i titoli separati da virgole\n",
    "        titoli_concatenati = ', '.join(lista_titoli)\n",
    "        print(f\"Ecco i libri disponibili nella categoria {categoria}: {titoli_concatenati}\")\n",
    "    else:\n",
    "        print(f\"Errore: la categoria '{categoria}' non esiste nel dizionario.\")"
   ]
  },
  {
   "cell_type": "code",
   "execution_count": 126,
   "id": "e539a89d-051d-468d-83ae-2cf92f41f8d2",
   "metadata": {},
   "outputs": [],
   "source": [
    "# ESEMPIO cercando quali sono i libri di Dostoevskij presenti del database"
   ]
  },
  {
   "cell_type": "code",
   "execution_count": 31,
   "id": "5761fcc0-356d-4c44-93cc-a7703b91ba77",
   "metadata": {},
   "outputs": [
    {
     "name": "stdout",
     "output_type": "stream",
     "text": [
      "Ecco i libri disponibili nella categoria Dostoevskij: Il giocatore, Delitto e castigo, L'idiota, I fratelli Karamazov\n"
     ]
    }
   ],
   "source": [
    "ricerca_per_titolo(narrativa_russa, 'Dostoevskij')"
   ]
  },
  {
   "cell_type": "markdown",
   "id": "28797264-aa98-4c48-a703-c2e633f538fc",
   "metadata": {},
   "source": [
    "La seconda funzione di ricerca serve a cercare informazioni più specifiche dei libri in base alla loro categoria, come il solo prezzo."
   ]
  },
  {
   "cell_type": "code",
   "execution_count": 33,
   "id": "d4bde627-cd7c-4586-ad46-85025ad94870",
   "metadata": {},
   "outputs": [],
   "source": [
    "def ricerca_per_attributo_specifico(dizionario, categoria, chiave):\n",
    "    if categoria in dizionario:\n",
    "        if chiave in dizionario[categoria]:\n",
    "            print(f\"L'attributo '{chiave}' nella categoria '{categoria}' è: {dizionario[categoria][chiave]}\")\n",
    "        else:\n",
    "            print(f\"L'attributo '{chiave}' non è presente nella categoria '{categoria}'.\")\n",
    "    else:\n",
    "        print(f\"La categoria '{categoria}' non è presente nel dizionario.\")"
   ]
  },
  {
   "cell_type": "code",
   "execution_count": 35,
   "id": "c0c34345-d7eb-437e-982d-c70b9973132a",
   "metadata": {},
   "outputs": [
    {
     "name": "stdout",
     "output_type": "stream",
     "text": [
      "L'attributo 'prezzo' nella categoria 'nuove uscite' è: [19.99, 22.8, 13.99, 17.1, 16.05, 17.1]\n"
     ]
    }
   ],
   "source": [
    "# ESEMPIO cercando il costo delle nuove uscite del genere fantasy.\n",
    "\n",
    "ricerca_per_attributo_specifico(fantasy, 'nuove uscite', 'prezzo')"
   ]
  },
  {
   "cell_type": "markdown",
   "id": "67989feb-a28e-4675-ad2a-733f01703ccc",
   "metadata": {},
   "source": [
    "# Definisco la funzione di calcolo delle statistiche\n",
    "Imposto la statistica per contare i libri del dataset usciti nel 1800 per genere."
   ]
  },
  {
   "cell_type": "code",
   "execution_count": 59,
   "id": "c4abf742-b126-4174-a8ee-980302e8fdbd",
   "metadata": {},
   "outputs": [],
   "source": [
    "def statistiche_1800(dizionario):\n",
    "    conta = 0\n",
    "# La variabile \"conta\" sarà usata per tracciare il numero totale di libri pubblicati nel range di anni specificato.\n",
    "    for chiave, valore in dizionario.items():\n",
    "# La funzione procede con un ciclo `for` per iterare sulle coppie chiave-valore del dizionario passato come argomento.\n",
    "        if isinstance(valore, dict):\n",
    "# Utilizzo poi il valore condizionale if con la funzione \"isinstance\" per verificare se un valore nel dizionario è a sua volta un dizionario,\n",
    "# dato che nel mio database possiedo dizionari annidati e altrimenti non mi andrebbe a contare tutti i libri.\n",
    "            for sotto_chiave, sotto_valore in valore.items():\n",
    "                # Vado quindi a iterare sui valori del dizionario annidato.\n",
    "                if sotto_chiave.startswith('anno') and isinstance(sotto_valore, list):\n",
    "                    # Iterazione su ogni anno nella lista sotto_valore per verificare se ciascun elemento (anno) rientra nel range specificato.\n",
    "                    conta += sum(1 for anno in sotto_valore if 1800 <= anno < 1900)\n",
    "    return conta"
   ]
  },
  {
   "cell_type": "code",
   "execution_count": 61,
   "id": "364fc8cb-d270-4578-9d83-f0e3ab83f7c8",
   "metadata": {},
   "outputs": [
    {
     "data": {
      "text/plain": [
       "10"
      ]
     },
     "execution_count": 61,
     "metadata": {},
     "output_type": "execute_result"
    }
   ],
   "source": [
    "#ESEMPIO con il genere narrativa_russa\n",
    "\n",
    "statistiche_1800(narrativa_russa)"
   ]
  },
  {
   "cell_type": "markdown",
   "id": "8e98d6da-8d5d-467f-9986-ca60ae7e5e66",
   "metadata": {},
   "source": [
    "# Definisco la funzione di filtraggio avanzato\n",
    "La funzione serve a filtrare i libri usciti dopo il 2000 e che costano meno di 20€"
   ]
  },
  {
   "cell_type": "code",
   "execution_count": 73,
   "id": "a486312f-c735-4d6c-b477-1388306c64a7",
   "metadata": {},
   "outputs": [],
   "source": [
    "def filtraggio_avanzato(dizionario):\n",
    "    # La variabile \"conta\" sarà usata come contatore per tracciare il numero totale di libri pubblicati nel range di anni specificato.\n",
    "    conta = 0\n",
    "    # Ciclo attraverso ogni coppia chiave-valore nel dizionario.\n",
    "    for chiave, valore in dizionario.items():\n",
    "        # Controlla se il valore associato a ciascuna chiave è un dizionario. Questo è necessario perché il valore deve contenere ulteriori dettagli come prezzo e anno.\n",
    "        if isinstance(valore, dict):\n",
    "            # Utilizzo poi il valore condizionale if con la funzione \"isinstance\" per verificare se un valore nel dizionario è a sua volta un dizionario.\n",
    "            prezzi = None\n",
    "            anni_pubblicazione = None\n",
    "            # Inizializzo due variabili a None per memorizzare i prezzi e gli anni di pubblicazione dei libri se e quando verranno identificati nel sotto-dizionario.\n",
    "            for sotto_chiave, sotto_valore in valore.items():\n",
    "                # Ciclo attraverso ogni coppia chiave-valore nel sotto-dizionario, andando a controllare le chiavi prezzo e anno_pubblicazione del sotto-dizionario.\n",
    "                if sotto_chiave == 'prezzo':\n",
    "                    prezzi = sotto_valore\n",
    "                    # Controllate le chiavi, assegno la lista degli anni di pubblicazione alle variabili \"prezzi\" e \"anni_pubblicazione\".\n",
    "                elif sotto_chiave == 'anno_pubblicazione':\n",
    "                    anni_pubblicazione = sotto_valore\n",
    "            if prezzi is not None and anni_pubblicazione is not None:\n",
    "                # Verifico che entrambe le liste, prezzi e anni di pubblicazione, siano state trovate e non siano None.\n",
    "                for prezzo, anno in zip(prezzi, anni_pubblicazione):\n",
    "                    # Combino le liste di prezzi e anni di pubblicazione usando la funzione zip() per creare coppie di prezzo e anno per ogni libro.\n",
    "                    if prezzo < 20.0 and anno > 2000:\n",
    "                        # Se un libro soddisfa entrambi i criteri, il contatore aumenta di 1.\n",
    "                        conta += 1\n",
    "    return conta"
   ]
  },
  {
   "cell_type": "code",
   "execution_count": 75,
   "id": "479c4ea4-4c1e-4eba-972e-21faa56f400d",
   "metadata": {},
   "outputs": [
    {
     "data": {
      "text/plain": [
       "5"
      ]
     },
     "execution_count": 75,
     "metadata": {},
     "output_type": "execute_result"
    }
   ],
   "source": [
    "# ESEMPIO con il genere fantasy\n",
    "\n",
    "filtraggio_avanzato(fantasy)"
   ]
  }
 ],
 "metadata": {
  "kernelspec": {
   "display_name": "Python 3 (ipykernel)",
   "language": "python",
   "name": "python3"
  },
  "language_info": {
   "codemirror_mode": {
    "name": "ipython",
    "version": 3
   },
   "file_extension": ".py",
   "mimetype": "text/x-python",
   "name": "python",
   "nbconvert_exporter": "python",
   "pygments_lexer": "ipython3",
   "version": "3.12.4"
  }
 },
 "nbformat": 4,
 "nbformat_minor": 5
}
